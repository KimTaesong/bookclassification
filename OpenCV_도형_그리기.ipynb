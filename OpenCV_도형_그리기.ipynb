{
  "nbformat": 4,
  "nbformat_minor": 0,
  "metadata": {
    "colab": {
      "name": "OpenCV 도형 그리기",
      "provenance": [],
      "collapsed_sections": [],
      "include_colab_link": true
    },
    "kernelspec": {
      "name": "python3",
      "display_name": "Python 3"
    }
  },
  "cells": [
    {
      "cell_type": "markdown",
      "metadata": {
        "id": "view-in-github",
        "colab_type": "text"
      },
      "source": [
        "<a href=\"https://colab.research.google.com/github/KimTaesong/bookclassification/blob/til/OpenCV_%EB%8F%84%ED%98%95_%EA%B7%B8%EB%A6%AC%EA%B8%B0.ipynb\" target=\"_parent\"><img src=\"https://colab.research.google.com/assets/colab-badge.svg\" alt=\"Open In Colab\"/></a>"
      ]
    },
    {
      "cell_type": "markdown",
      "metadata": {
        "id": "LPUElEH5tnDa",
        "colab_type": "text"
      },
      "source": [
        "## OpenCV 도형 그리기\n",
        "[강의 노트](https://github.com/ndb796/Python-Data-Analysis-and-Image-Processing-Tutorial/blob/master/12.%20OpenCV%20%EB%8F%84%ED%98%95%20%EA%B7%B8%EB%A6%AC%EA%B8%B0/Python%20%EB%8D%B0%EC%9D%B4%ED%84%B0%20%EB%B6%84%EC%84%9D%EA%B3%BC%20%EC%9D%B4%EB%AF%B8%EC%A7%80%20%EC%B2%98%EB%A6%AC%20-%20OpenCV%20%EB%8F%84%ED%98%95%20%EA%B7%B8%EB%A6%AC%EA%B8%B0.pdf)"
      ]
    },
    {
      "cell_type": "markdown",
      "metadata": {
        "id": "UtmSO9nDtfVr",
        "colab_type": "text"
      },
      "source": [
        "cv2.line(image, start, end, color, thickness): 하나의 직선을 그리는 함수\n",
        "\n",
        "- start: 시작 좌표 (2차원)\n",
        "- end: 종료 좌표 (2차원)\n",
        "- thickness: 선의 두께"
      ]
    },
    {
      "cell_type": "code",
      "metadata": {
        "id": "0QuCX3vPt_ky",
        "colab_type": "code",
        "colab": {
          "base_uri": "https://localhost:8080/",
          "height": 269
        },
        "outputId": "eaeffcd7-f6c7-46f8-db67-1894a5d85edf"
      },
      "source": [
        "import cv2\n",
        "import numpy as np\n",
        "import matplotlib.pyplot as plt\n",
        "\n",
        "image = np.full((512, 512, 3), 255, np.uint8)\n",
        "image = cv2.line(image, (0, 0), (255, 255), (255, 0, 0), 3)\n",
        "\n",
        "plt.imshow(image)\n",
        "plt.show()"
      ],
      "execution_count": 1,
      "outputs": [
        {
          "output_type": "display_data",
          "data": {
            "image/png": "[encoded data removed]",
            "text/plain": [
              "<Figure size 432x288 with 1 Axes>"
            ]
          },
          "metadata": {
            "tags": [],
            "needs_background": "light"
          }
        }
      ]
    },
    {
      "cell_type": "markdown",
      "metadata": {
        "id": "yXvAguzMutmB",
        "colab_type": "text"
      },
      "source": [
        "cv2.rectangle(image, start, end, color, thickness): 하나의 사각형을 그리는 함수\n",
        "\n",
        "- start: 시작 좌표 (2차원)\n",
        "- end: 종료 좌표 (2차원)\n",
        "- thickness: 선의 두께 (채우기: -1)"
      ]
    },
    {
      "cell_type": "code",
      "metadata": {
        "id": "1xOYyGAzuP3x",
        "colab_type": "code",
        "colab": {
          "base_uri": "https://localhost:8080/",
          "height": 269
        },
        "outputId": "a221464b-dc98-409a-a5ae-bd9c90c73fa4"
      },
      "source": [
        "import cv2\n",
        "import numpy as np\n",
        "import matplotlib.pyplot as plt\n",
        "\n",
        "image = np.full((512, 512, 3), 255, np.uint8)\n",
        "image = cv2.rectangle(image, (20, 20), (255, 255), (255, 0, 0), 3)\n",
        "\n",
        "plt.imshow(image)\n",
        "plt.show()"
      ],
      "execution_count": 2,
      "outputs": [
        {
          "output_type": "display_data",
          "data": {
            "image/png": "[encoded data removed]",
            "text/plain": [
              "<Figure size 432x288 with 1 Axes>"
            ]
          },
          "metadata": {
            "tags": [],
            "needs_background": "light"
          }
        }
      ]
    },
    {
      "cell_type": "markdown",
      "metadata": {
        "id": "mkMN5VY_u6Lp",
        "colab_type": "text"
      },
      "source": [
        "cv2.circle(image, center, radian, color, thickness): 하나의 원을 그리는 함수\n",
        "\n",
        "- center: 원의 중심 (2차원)\n",
        "- radian: 반지름\n",
        "- thickness: 선의 두께 (채우기: -1)"
      ]
    },
    {
      "cell_type": "code",
      "metadata": {
        "id": "lJtMSPN6ur_e",
        "colab_type": "code",
        "colab": {
          "base_uri": "https://localhost:8080/",
          "height": 269
        },
        "outputId": "7facb53b-ba1f-4c08-eb62-283e2048cc61"
      },
      "source": [
        "import cv2\n",
        "import numpy as np\n",
        "import matplotlib.pyplot as plt\n",
        "\n",
        "image = np.full((512, 512, 3), 255, np.uint8)\n",
        "image = cv2.circle(image, (255, 255), 30, (255, 0, 0), 3)\n",
        "\n",
        "plt.imshow(image)\n",
        "plt.show()"
      ],
      "execution_count": 3,
      "outputs": [
        {
          "output_type": "display_data",
          "data": {
            "image/png": "[encoded data removed]",
            "text/plain": [
              "<Figure size 432x288 with 1 Axes>"
            ]
          },
          "metadata": {
            "tags": [],
            "needs_background": "light"
          }
        }
      ]
    },
    {
      "cell_type": "markdown",
      "metadata": {
        "id": "zg5B8SVfvdIy",
        "colab_type": "text"
      },
      "source": [
        "cv2.polylines(image, points, is_closed, color, thickness): 하나의 다각형을 그리는 함수\n",
        "\n",
        "- points: 꼭지점들\n",
        "- is_closed: 닫힌 도형 여부\n",
        "- thickness: 선의 두께 (채우기: -1)"
      ]
    },
    {
      "cell_type": "code",
      "metadata": {
        "id": "9NUB5QmNvT9y",
        "colab_type": "code",
        "colab": {
          "base_uri": "https://localhost:8080/",
          "height": 269
        },
        "outputId": "46b73bdf-d05b-4136-994b-477d966bc3ef"
      },
      "source": [
        "import cv2\n",
        "import numpy as np\n",
        "import matplotlib.pyplot as plt\n",
        "\n",
        "image = np.full((512, 512, 3), 255, np.uint8)\n",
        "points = np.array([[5, 5], [128, 258], [483, 444], [400, 150]])\n",
        "image = cv2.polylines(image, [points], True, (0, 0, 255), 4)\n",
        "\n",
        "plt.imshow(image)\n",
        "plt.show()"
      ],
      "execution_count": 4,
      "outputs": [
        {
          "output_type": "display_data",
          "data": {
            "image/png": "[encoded data removed]",
            "text/plain": [
              "<Figure size 432x288 with 1 Axes>"
            ]
          },
          "metadata": {
            "tags": [],
            "needs_background": "light"
          }
        }
      ]
    },
    {
      "cell_type": "markdown",
      "metadata": {
        "id": "vFKnoGGFwmbt",
        "colab_type": "text"
      },
      "source": [
        "cv2.putText(image, text, position, font_type, font_scale, color): 하나의 텍스트를 그리는 함수\n",
        "\n",
        "- position: 텍스트가 출력될 위치\n",
        "- font_type: 글씨체\n",
        "- font_scale: 글씨 크기 가중치"
      ]
    },
    {
      "cell_type": "code",
      "metadata": {
        "id": "hzydaUpUwe8L",
        "colab_type": "code",
        "colab": {
          "base_uri": "https://localhost:8080/",
          "height": 269
        },
        "outputId": "c672a398-33d3-4c93-a7ee-da910525256f"
      },
      "source": [
        "import cv2\n",
        "import numpy as np\n",
        "import matplotlib.pyplot as plt\n",
        "\n",
        "image = np.full((512, 512, 3), 255, np.uint8)\n",
        "image = cv2.putText(image, 'Hello World', (0, 200), cv2.FONT_ITALIC, 2, (255, 0, 0))\n",
        "\n",
        "plt.imshow(image)\n",
        "plt.show()"
      ],
      "execution_count": 5,
      "outputs": [
        {
          "output_type": "display_data",
          "data": {
            "image/png": "[encoded data removed]",
            "text/plain": [
              "<Figure size 432x288 with 1 Axes>"
            ]
          },
          "metadata": {
            "tags": [],
            "needs_background": "light"
          }
        }
      ]
    }
  ]
}